{
 "cells": [
  {
   "cell_type": "markdown",
   "metadata": {},
   "source": [
    "# Leaflet cluster map of talk locations\n",
    "\n",
    "Run this from the _talks/ directory, which contains .md files of all your talks. This scrapes the location YAML field from each .md file, geolocates it with geopy/Nominatim, and uses the getorg library to output data, HTML, and Javascript for a standalone cluster map."
   ]
  },
  {
   "cell_type": "code",
   "execution_count": 1,
   "metadata": {
    "collapsed": false
   },
   "outputs": [
    {
     "name": "stdout",
     "output_type": "stream",
     "text": [
      "Iywidgets and ipyleaflet support disabled. You must be in a Jupyter notebook to use this feature.\n",
      "Error raised:\n",
      "No module named 'ipyleaflet'\n",
      "Check that you have enabled ipyleaflet in Jupyter with:\n",
      "    jupyter nbextension enable --py ipyleaflet\n"
     ]
    }
   ],
   "source": [
    "#!pip install getorg --upgrade\n",
    "import glob\n",
    "import numpy\n",
    "import getorg\n",
    "from geopy import Nominatim"
   ]
  },
  {
   "cell_type": "code",
   "execution_count": 2,
   "metadata": {
    "collapsed": false
   },
   "outputs": [
    {
     "data": {
      "text/plain": [
       "['_talks\\\\2014-2016-Open-astronomical-observations-of-the-Lunar-eclipses-and-the-transit-of-Mercury.md',\n",
       " '_talks\\\\2018-A-stochastic-and-population-model-of-epileptic-seizures.md',\n",
       " '_talks\\\\2018-Map-based-neurons-a-general-model-for-the-action-potential.md',\n",
       " '_talks\\\\2018-The-chemistry-that-makes-us-think-and-feel-how-ions-and-molecules-control-our-behavior.md',\n",
       " '_talks\\\\2019-A-map-based-model-for-the-membrane-potential-of-healthy-and-unhealthy-neurons-and-cardiac-cells.md',\n",
       " '_talks\\\\2019-Can-a-butterfly-flap-its-wings-in-China-and-cause-a-tornado-in-Brazil.md',\n",
       " '_talks\\\\2019-How-to-self-organize-a-neuronal-network-towards-the-balanced-state.md',\n",
       " '_talks\\\\2019-Power-law-avalanches-and-all-the-synchronicity-states-emerging-in-a-unified-model-of-excitatory-inhibitory-balanced-network.md',\n",
       " '_talks\\\\2020-A-self-organized-path-to-synaptic-balance.md',\n",
       " '_talks\\\\2020-Directed-percolation-explains-experimental-avalanche-scaling-laws-under-subsampling.md',\n",
       " '_talks\\\\2020-Modeling-in-Science-beyond-the-COVID-19-Pandemic.md',\n",
       " '_talks\\\\2020-Neuroscience-and-Memory-Mechanisms.md',\n",
       " '_talks\\\\2021-A-minimal-integrate-and-fire-model-for-Mossy-Cells.md',\n",
       " '_talks\\\\2021-Asynchronous-irregular-activity-coexists-with-power-law-distributed-neuronal-avalanches.md',\n",
       " '_talks\\\\2021-Neuronal-avalanches-are-they-generally-representative-of-critical-brain-dynamics.md',\n",
       " '_talks\\\\2022-Brain-criticality-beyond-avalanches-open-problems-and-how-to-approach-them.md',\n",
       " '_talks\\\\2023-Coding-properties-of-networks-with-firing-threshold-adaptation-near-criticality.md',\n",
       " '_talks\\\\2024-Adaptive-networks-input-encoding-and-learning.md']"
      ]
     },
     "execution_count": 2,
     "metadata": {},
     "output_type": "execute_result"
    }
   ],
   "source": [
    "g = glob.glob(\"_talks/*.md\")\n",
    "g"
   ]
  },
  {
   "cell_type": "code",
   "execution_count": 3,
   "metadata": {
    "collapsed": true
   },
   "outputs": [
    {
     "name": "stderr",
     "output_type": "stream",
     "text": [
      "<ipython-input-3-cd980ae579e7>:1: DeprecationWarning: Using Nominatim with the default \"geopy/1.22.0\" `user_agent` is strongly discouraged, as it violates Nominatim's ToS https://operations.osmfoundation.org/policies/nominatim/ and may possibly cause 403 and 429 HTTP errors. Please specify a custom `user_agent` with `Nominatim(user_agent=\"my-application\")` or by overriding the default `user_agent`: `geopy.geocoders.options.default_user_agent = \"my-application\"`. In geopy 2.0 this will become an exception.\n",
      "  geocoder = Nominatim()\n"
     ]
    }
   ],
   "source": [
    "geocoder = Nominatim()\n",
    "location_dict = {}\n",
    "location = \"\"\n",
    "permalink = \"\"\n",
    "title = \"\""
   ]
  },
  {
   "cell_type": "code",
   "execution_count": 16,
   "metadata": {
    "collapsed": false
   },
   "outputs": [
    {
     "name": "stdout",
     "output_type": "stream",
     "text": [
      "Processing ...  _talks\\2014-2016-Open-astronomical-observations-of-the-Lunar-eclipses-and-the-transit-of-Mercury.md\n",
      "Sao Jose, SC, Brazil \n",
      " São José, Região Geográfica Imediata de Florianópolis, Região Geográfica Intermediária de Florianópolis, Santa Catarina, Região Sul, Brasil\n",
      "Processing ...  _talks\\2018-A-stochastic-and-population-model-of-epileptic-seizures.md\n",
      "Sao Paulo, SP, Brazil \n",
      " São Paulo, Região Imediata de São Paulo, Região Metropolitana de São Paulo, Região Geográfica Intermediária de São Paulo, São Paulo, Região Sudeste, Brasil\n",
      "Processing ...  _talks\\2018-Map-based-neurons-a-general-model-for-the-action-potential.md\n",
      "Sao Paulo, SP, Brazil \n",
      " São Paulo, Região Imediata de São Paulo, Região Metropolitana de São Paulo, Região Geográfica Intermediária de São Paulo, São Paulo, Região Sudeste, Brasil\n",
      "Processing ...  _talks\\2018-The-chemistry-that-makes-us-think-and-feel-how-ions-and-molecules-control-our-behavior.md\n",
      "Jaragua do Sul, SC, Brazil \n",
      " Jaraguá do Sul, Santa Catarina, Região Sul, Brasil\n",
      "Processing ...  _talks\\2019-A-map-based-model-for-the-membrane-potential-of-healthy-and-unhealthy-neurons-and-cardiac-cells.md\n",
      "Barcelona, Spain \n",
      " Barcelona, Barcelonès, Barcelona, Catalunya, 08001, España\n",
      "Processing ...  _talks\\2019-Can-a-butterfly-flap-its-wings-in-China-and-cause-a-tornado-in-Brazil.md\n",
      "Florianopolis, SC, Brazil \n",
      " Florianópolis, Região Geográfica Imediata de Florianópolis, Região Geográfica Intermediária de Florianópolis, Santa Catarina, Região Sul, Brasil\n",
      "Processing ...  _talks\\2019-How-to-self-organize-a-neuronal-network-towards-the-balanced-state.md\n",
      "Berlin, Germany \n",
      " Berlin, Deutschland\n",
      "Processing ...  _talks\\2019-Power-law-avalanches-and-all-the-synchronicity-states-emerging-in-a-unified-model-of-excitatory-inhibitory-balanced-network.md\n",
      "Berlin, Germany \n",
      " Berlin, Deutschland\n",
      "Processing ...  _talks\\2020-A-self-organized-path-to-synaptic-balance.md\n",
      "Sao Paulo, SP, Brazil \n",
      " São Paulo, Região Imediata de São Paulo, Região Metropolitana de São Paulo, Região Geográfica Intermediária de São Paulo, São Paulo, Região Sudeste, Brasil\n",
      "Processing ...  _talks\\2020-Directed-percolation-explains-experimental-avalanche-scaling-laws-under-subsampling.md\n",
      " \n",
      " None\n",
      "Processing ...  _talks\\2020-Modeling-in-Science-beyond-the-COVID-19-Pandemic.md\n",
      " \n",
      " None\n",
      "Processing ...  _talks\\2020-Neuroscience-and-Memory-Mechanisms.md\n",
      " \n",
      " None\n",
      "Processing ...  _talks\\2021-A-minimal-integrate-and-fire-model-for-Mossy-Cells.md\n",
      " \n",
      " None\n",
      "Processing ...  _talks\\2021-Asynchronous-irregular-activity-coexists-with-power-law-distributed-neuronal-avalanches.md\n",
      " \n",
      " None\n",
      "Processing ...  _talks\\2021-Neuronal-avalanches-are-they-generally-representative-of-critical-brain-dynamics.md\n",
      " \n",
      " None\n",
      "Processing ...  _talks\\2022-Brain-criticality-beyond-avalanches-open-problems-and-how-to-approach-them.md\n",
      " \n",
      " None\n",
      "Processing ...  _talks\\2023-Coding-properties-of-networks-with-firing-threshold-adaptation-near-criticality.md\n",
      "Berlin, Germany \n",
      " Berlin, Deutschland\n",
      "Processing ...  _talks\\2024-Adaptive-networks-input-encoding-and-learning.md\n",
      "Sao Paulo, SP, Brazil \n",
      " São Paulo, Região Imediata de São Paulo, Região Metropolitana de São Paulo, Região Geográfica Intermediária de São Paulo, São Paulo, Região Sudeste, Brasil\n"
     ]
    }
   ],
   "source": [
    "def get_file_header_info(file):\n",
    "    with open(file, 'r') as f:\n",
    "        lines = f.readlines()\n",
    "    lines  = numpy.array([ l.replace('\\n','').strip() for l in lines],dtype=str)\n",
    "    return dict([ [ e.strip() for e in l.split(':',1) ] for l in lines[slice(*(numpy.logical_or(lines=='---\\n',lines=='---').nonzero()[0] + (1,0)))] ])\n",
    "def get_md_file_header_tag(file,tag):\n",
    "    h = file if type(file) is dict else get_file_header_info(file)\n",
    "    return h[tag] if tag in h.keys() else ''\n",
    "\n",
    "for file in g:\n",
    "    print('Processing ... ',file)\n",
    "    location = get_md_file_header_tag(file,'location').replace('\"','')\n",
    "    location_dict[location] = geocoder.geocode(location)\n",
    "    print(location, \"\\n\", location_dict[location])\n"
   ]
  },
  {
   "cell_type": "code",
   "execution_count": 17,
   "metadata": {
    "collapsed": false
   },
   "outputs": [
    {
     "data": {
      "text/plain": [
       "'Written map to ./talkmap/'"
      ]
     },
     "execution_count": 17,
     "metadata": {},
     "output_type": "execute_result"
    }
   ],
   "source": [
    "m = getorg.orgmap.create_map_obj()\n",
    "getorg.orgmap.output_html_cluster_map(location_dict, folder_name=\"./talkmap\", hashed_usernames=False)"
   ]
  },
  {
   "cell_type": "code",
   "execution_count": 18,
   "metadata": {
    "collapsed": true
   },
   "outputs": [
    {
     "data": {
      "text/plain": [
       "'IPywidgets and ipyleaflet support disabled.'"
      ]
     },
     "execution_count": 18,
     "metadata": {},
     "output_type": "execute_result"
    }
   ],
   "source": [
    "m"
   ]
  },
  {
   "cell_type": "code",
   "execution_count": null,
   "metadata": {},
   "outputs": [],
   "source": []
  }
 ],
 "metadata": {
  "anaconda-cloud": {},
  "kernelspec": {
   "display_name": "Python 3",
   "language": "python",
   "name": "python3"
  },
  "language_info": {
   "codemirror_mode": {
    "name": "ipython",
    "version": 3
   },
   "file_extension": ".py",
   "mimetype": "text/x-python",
   "name": "python",
   "nbconvert_exporter": "python",
   "pygments_lexer": "ipython3",
   "version": "3.8.2"
  },
  "vscode": {
   "interpreter": {
    "hash": "570feb405e2e27c949193ac68f46852414290d515b0ba6e5d90d076ed2284471"
   }
  }
 },
 "nbformat": 4,
 "nbformat_minor": 0
}
