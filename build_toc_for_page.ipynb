{
 "cells": [
  {
   "cell_type": "code",
   "execution_count": 11,
   "metadata": {},
   "outputs": [],
   "source": [
    "import re\n",
    "import glob\n",
    "import numpy\n",
    "\n",
    "def get_file_header_info(file):\n",
    "    with open(file, 'r') as f:\n",
    "        lines = f.readlines()\n",
    "    lines  = numpy.array([ l.replace('\\n','').strip() for l in lines],dtype=str)\n",
    "    return dict([ [ e.strip() for e in l.split(':',1) ] for l in lines[slice(*(numpy.logical_or(lines=='---\\n',lines=='---').nonzero()[0] + (1,0)))] ])\n",
    "def get_md_file_header_tag(file_or_file_header_info,tag,skip_quotes=True):\n",
    "    if type(file_or_file_header_info) is list:\n",
    "        return [ get_md_file_header_tag(f,tag) for f in file_or_file_header_info ]\n",
    "    else:\n",
    "        h = file_or_file_header_info if type(file_or_file_header_info) is dict else get_file_header_info(file_or_file_header_info)\n",
    "        return (h[tag].replace('\"','') if skip_quotes else h[tag]) if tag in h.keys() else ''\n",
    "def find_file_by_tag(finfo_list,tag,value):\n",
    "    return [ f for f in finfo_list if (value in f[tag]) ]\n",
    "def sort_files_by_tag(finfo_list,tag,value_to_index_func=int,reverse=False):\n",
    "    return sorted(finfo_list,key=lambda fi: value_to_index_func(fi[tag]),reverse=reverse)\n",
    "def get_unique_values_for_tag(finfo_list,tag,dtype=None):\n",
    "    return numpy.unique(numpy.array(get_md_file_header_tag(finfo_list,tag),dtype=dtype))\n",
    "def sort_elements(arr,order,reverse=False,key_map=None):\n",
    "    get_key = lambda k: key_map[k] if not(type(key_map) is type(None)) else k\n",
    "    order_map = {get_key(key): i for i, key in enumerate(order)}\n",
    "    return sorted(arr,key=lambda d: order_map.get(d,numpy.inf),reverse=reverse)\n",
    "\n",
    "def get_toc_li(href,id,txt,closetag=False):\n",
    "    href = href.lower().replace(' ','-')\n",
    "    id   = id.lower().replace(' ','-')\n",
    "    return r'<li><a href=\"#'+href+'\" id=\"markdown-toc-'+id+'\">'+txt+'</a>' + ('</li>' if closetag else '')\n",
    "\n",
    "\n",
    "\n",
    "def find_smallest_integer(input_data):\n",
    "    # Ensure input_data is always a list\n",
    "    if isinstance(input_data, (bytes, bytearray)):\n",
    "        input_data = input_data.decode()  # Decode bytes to string\n",
    "    if isinstance(input_data, str):\n",
    "        input_data = [input_data]\n",
    "    smallest_integers = []\n",
    "    for input_string in input_data:\n",
    "        # Decode if input_string is bytes\n",
    "        if isinstance(input_string, (bytes, bytearray)):\n",
    "            input_string = input_string.decode()\n",
    "        # Find all integers in the string\n",
    "        numbers = re.findall(r'-?\\d+', input_string)\n",
    "        # Convert them to integers\n",
    "        numbers = [int(num) for num in numbers]\n",
    "        # Find the smallest integer and add it to the result list\n",
    "        if numbers:\n",
    "            smallest_integers.append(min(numbers))\n",
    "        else:\n",
    "            smallest_integers.append(None)\n",
    "    # Return the smallest_integers list or a single element if only one\n",
    "    if len(smallest_integers) == 0: \n",
    "        return None \n",
    "    elif len(smallest_integers) == 1:\n",
    "        return smallest_integers[0]\n",
    "    else:\n",
    "        return smallest_integers\n",
    "\n"
   ]
  },
  {
   "cell_type": "markdown",
   "metadata": {},
   "source": [
    "# processing Publications"
   ]
  },
  {
   "cell_type": "code",
   "execution_count": 12,
   "metadata": {},
   "outputs": [
    {
     "name": "stdout",
     "output_type": "stream",
     "text": [
      "./_publications\\2010-10-01-Um-modelo-concreto-para-o-estudo-da-estabilidade-nuclear-no-ensino-mdio.md\n",
      "./_publications\\2011-7-01-Signal-propagation-and-neuronal-avalanches-analysis-in-networks-of-formal-neurons.md\n",
      "./_publications\\2012-3-01-A-Simple-Monte-Carlo-Approach-to-the-Diffusion-of-Positrons-in-Gaseous-Media.md\n",
      "./_publications\\2012-3-01-Sincronizao-transies-de-fase-criticalidade-e-subamostragem-em-redes-de-neurnios-formais.md\n",
      "./_publications\\2013-6-01-A-random-walk-approach-to-the-diffusion-of-positrons-in-gaseous-media.md\n",
      "./_publications\\2013-7-01-A-brief-history-of-excitable-map-based-neurons-and-neural-networks.md\n",
      "./_publications\\2013-8-01-Critical-avalanches-and-subsampling-in-map-based-neural-networks-coupled-with-noisy-synapses.md\n",
      "./_publications\\2014-7-01-A-map-based-logistic-neuron-model-an-efficient-way-to-obtain-many-different-neural-behaviors.md\n",
      "./_publications\\2014-7-01-Neural-frequency-distributions-may-generate-a-new-phase-transition-in-models-for-synchronization.md\n",
      "./_publications\\2014-7-01-Optimal-activity-avalanches-and-criticality-in-a-model-of-the-Primary-Visual-Area.md\n",
      "./_publications\\2016-1-01-Information-processing-occurs-via-critical-avalanches-in-a-model-of-the-primary-visual-cortex.md\n",
      "./_publications\\2016-3-01-Transies-de-fase-em-modelos-do-crebro-uma-abordagem-computacional.md\n",
      "./_publications\\2016-7-01-Griffiths-phase-and-long-range-correlations-in-a-biologically-motivated-visual-cortex-model.md\n",
      "./_publications\\2017-3-01-Phase-diagrams-and-dynamics-of-a-computationally-efficient-map-based-neuron-model.md\n",
      "./_publications\\2018-4-01-Measuring-neuronal-avalanches-in-disordered-systems-with-absorbing-states.md\n",
      "./_publications\\2019-10-01-Comment-on-Convergence-towards-asymptotic-state-in-1-D-mappings-A-scaling-investigation.md\n",
      "./_publications\\2019-7-01-A-map-based-model-for-the-membrane-potential-of-healthy-and-unhealthy-neurons-and-cardiac-cells.md\n",
      "./_publications\\2019-9-01-How-to-self-organize-a-neuronal-network-towards-the-balanced-state.md\n",
      "./_publications\\2019-9-01-Power-law-avalanches-and-all-the-synchronicity-states-emerging-in-a-unified-model-of-excitatory-inhibitory-balanced-network.md\n",
      "./_publications\\2020-01-01-Fsica2.md\n",
      "./_publications\\2020-2-01-Synaptic-balance-due-to-homeostatically-self-organized-quasicritical-dynamics.md\n",
      "./_publications\\2020-3-01-Hints-from-statistical-physics-and-graph-theory-to-build-synthetic-connectomes-Comment-on-What-would-a-synthetic-connectome-look-like-by-I-Rabinowitch.md\n",
      "./_publications\\2020-7-01-Granger-causality-in-the-frequency-domain-derivation-and-applications.md\n",
      "./_publications\\2021-01-01-Um-plano-para-arredondar-a-Terra.md\n",
      "./_publications\\2021-1-01-Subsampled-Directed-Percolation-Models-Explain-Scaling-Relations-Experimentally-Observed-in-the-Brain.md\n",
      "./_publications\\2021-10-01-A-unified-theory-of-EI-synaptic-balance-quasicritical-neuronal-avalanches-and-asynchronous-irregular-spiking.md\n",
      "./_publications\\2021-3-01-Altered-communication-dynamics-reflect-cognitive-deficits-in-temporal-lobe-epilepsy.md\n",
      "./_publications\\2021-6-01-Building-a-model-of-the-brain-from-detailed-connectivity-maps-to-network-organization.md\n",
      "./_publications\\2021-7-01-A-minimal-integrate-and-fire-model-for-mossy-cells.md\n",
      "./_publications\\2021-9-01-Brain-criticality-beyond-avalanches-open-problems-and-how-to-approach-them.md\n",
      "./_publications\\2022-3-01-Homeostatic-Criticality-in-Neuronal-Networks.md\n",
      "./_publications\\2023-9-01-Adaptive-spike-threshold-dynamics-associated-with-sparse-spiking-of-hilar-mossy-cells-are-captured-by-a-simple-model.md\n",
      "./_publications\\2023-9-01-Coding-properties-of-networks-with-firing-threshold-adaptation-near-criticality.md\n",
      "./_publications\\2024-01-01-Recovering-from-cardiac-action-potential-pathologies-a-dynamic-view.md\n",
      "./_publications\\2024-01-01-Shortcutting-from-self-motion-signals-reveals-a-cognitive-map-in-mice.md\n",
      "./_publications\\2024-2-01-Optimal-input-reverberation-and-homeostatic-self-organization-toward-the-edge-of-synchronization.md\n",
      "./_publications\\2024-7-01-Dynamic-range-and-pattern-formation-near-transition-points-of-networks-of-either-map-based-neurons-or-heart-cells.md\n",
      "./_publications\\2024-7-01-Homeostatic-self-organization-towards-the-edge-of-neuronal-synchronization.md\n",
      "./_publications\\2024-7-01-KTH-Model-Investigating-single-neuron-functionality.md\n",
      "./_publications\\2024-7-01-Optimal-coding-and-information-processing-due-to-firing-threshold-adaptation-near-criticality.md\n",
      "./_publications\\2024-8-01-Leis-de-estmulo-resposta-e-intervalo-dinmico-de-modelos-Glauber-Ising-adaptativos.md\n",
      "./_publications\\2025-01-01-Devils-staircase-inside-shrimp-shaped-regions-reveals-periodicity-of-plateau-spikes-and-bursts.md\n",
      "./_publications\\2025-7-01-Coding-and-information-processing-with-firing-threshold-adaptation-near-criticality-in-E-I-networks.md\n"
     ]
    }
   ],
   "source": [
    "process_for_page = 'publications'\n",
    "\n",
    "# process publications\n",
    "all_files        = glob.glob('./_publications/*.md')\n",
    "outfilename      = '_includes/toc-publications'\n",
    "pubtype_tag      = 'pubtype'\n",
    "year_tag         = 'year'\n",
    "year_dtype       = int\n",
    "pubtype_order    = ['paper','book','proceedings','thesis']\n",
    "pubtype_link_txt = dict(paper='Peer-reviewed papers',book='Books',proceedings='Proceedings',thesis='Theses')\n",
    "\n",
    "\n",
    "finfo = []\n",
    "for file in all_files:\n",
    "    print(file)\n",
    "    finfo.append(get_file_header_info(file))"
   ]
  },
  {
   "cell_type": "code",
   "execution_count": 13,
   "metadata": {},
   "outputs": [
    {
     "name": "stdout",
     "output_type": "stream",
     "text": [
      "<nav class=\"toc sticky\" style=\"width:100%;height:300px;overflow-y:scroll;overflow-x:hidden;scrollbar-width:5px;\"><header style=\"position:sticky;\"><h4 class=\"nav__title\"><i class=\"fa fa-file-text\"></i>&nbsp;Skip to...</h4></header><ul class=\"toc__menu\" id=\"markdown-toc\"><li><a href=\"#toc-paper\" id=\"markdown-toc-paper\">Peer-reviewed papers</a><ul><li><a href=\"#toc-paper-2025\" id=\"markdown-toc-paper-2025\">2025</a></li><li><a href=\"#toc-paper-2024\" id=\"markdown-toc-paper-2024\">2024</a></li><li><a href=\"#toc-paper-2023\" id=\"markdown-toc-paper-2023\">2023</a></li><li><a href=\"#toc-paper-2022\" id=\"markdown-toc-paper-2022\">2022</a></li><li><a href=\"#toc-paper-2021\" id=\"markdown-toc-paper-2021\">2021</a></li><li><a href=\"#toc-paper-2020\" id=\"markdown-toc-paper-2020\">2020</a></li><li><a href=\"#toc-paper-2019\" id=\"markdown-toc-paper-2019\">2019</a></li><li><a href=\"#toc-paper-2018\" id=\"markdown-toc-paper-2018\">2018</a></li><li><a href=\"#toc-paper-2017\" id=\"markdown-toc-paper-2017\">2017</a></li><li><a href=\"#toc-paper-2016\" id=\"markdown-toc-paper-2016\">2016</a></li><li><a href=\"#toc-paper-2013\" id=\"markdown-toc-paper-2013\">2013</a></li><li><a href=\"#toc-paper-2010\" id=\"markdown-toc-paper-2010\">2010</a></li></ul></li><li><a href=\"#toc-book\" id=\"markdown-toc-book\">Books</a><ul><li><a href=\"#toc-book-2021\" id=\"markdown-toc-book-2021\">2021</a></li><li><a href=\"#toc-book-2020\" id=\"markdown-toc-book-2020\">2020</a></li></ul></li><li><a href=\"#toc-proceedings\" id=\"markdown-toc-proceedings\">Proceedings</a><ul><li><a href=\"#toc-proceedings-2025\" id=\"markdown-toc-proceedings-2025\">2025</a></li><li><a href=\"#toc-proceedings-2024\" id=\"markdown-toc-proceedings-2024\">2024</a></li><li><a href=\"#toc-proceedings-2023\" id=\"markdown-toc-proceedings-2023\">2023</a></li><li><a href=\"#toc-proceedings-2021\" id=\"markdown-toc-proceedings-2021\">2021</a></li><li><a href=\"#toc-proceedings-2019\" id=\"markdown-toc-proceedings-2019\">2019</a></li><li><a href=\"#toc-proceedings-2014\" id=\"markdown-toc-proceedings-2014\">2014</a></li><li><a href=\"#toc-proceedings-2012\" id=\"markdown-toc-proceedings-2012\">2012</a></li><li><a href=\"#toc-proceedings-2011\" id=\"markdown-toc-proceedings-2011\">2011</a></li></ul></li><li><a href=\"#toc-thesis\" id=\"markdown-toc-thesis\">Theses</a><ul><li><a href=\"#toc-thesis-2024\" id=\"markdown-toc-thesis-2024\">2024</a></li><li><a href=\"#toc-thesis-2016\" id=\"markdown-toc-thesis-2016\">2016</a></li><li><a href=\"#toc-thesis-2012\" id=\"markdown-toc-thesis-2012\">2012</a></li></ul></li></ul></nav>\n",
      "File written ...  _includes/toc-publications\n"
     ]
    }
   ],
   "source": [
    "html_ul_code          = r'<ul class=\"toc__menu\" id=\"markdown-toc\">'\n",
    "all_pubtype           = sort_elements(get_unique_values_for_tag(finfo,pubtype_tag),pubtype_order)\n",
    "for ptype in all_pubtype:\n",
    "    html_ul_code     += get_toc_li('toc-'+ptype,ptype,pubtype_link_txt[ptype],False)\n",
    "    html_ul_code     += r'<ul>'\n",
    "    all_years         = numpy.flip(get_unique_values_for_tag(find_file_by_tag(finfo,pubtype_tag,ptype),year_tag,dtype=year_dtype))\n",
    "    for year in all_years:\n",
    "        html_ul_code += get_toc_li('toc-'+ptype+'-'+str(year),ptype+'-'+str(year),str(year),True)\n",
    "    html_ul_code     += r'</ul></li>' # closing year list for each ptype\n",
    "\n",
    "html_ul_code         += r'</ul>'\n",
    "\n",
    "html_toc_code = r'<nav class=\"toc sticky\" style=\"width:100%;height:300px;overflow-y:scroll;overflow-x:hidden;scrollbar-width:5px;\"><header style=\"position:sticky;\"><h4 class=\"nav__title\"><i class=\"fa fa-file-text\"></i>&nbsp;Skip to...</h4></header>'+html_ul_code+'</nav>'\n",
    "\n",
    "print(html_toc_code)\n",
    "\n",
    "with open(outfilename,'w') as outfile:\n",
    "    outfile.write(html_toc_code)\n",
    "print('File written ... ',outfilename)"
   ]
  },
  {
   "cell_type": "markdown",
   "metadata": {},
   "source": [
    "# processing Talks"
   ]
  },
  {
   "cell_type": "code",
   "execution_count": 14,
   "metadata": {},
   "outputs": [
    {
     "name": "stdout",
     "output_type": "stream",
     "text": [
      "./_talks\\2014-Open-astronomical-observations-of-the-Lunar-eclipses-and-the-transit-of-Mercury.md\n",
      "./_talks\\2018-A-stochastic-and-population-model-of-epileptic-seizures.md\n",
      "./_talks\\2018-Map-based-neurons-a-general-model-for-the-action-potential.md\n",
      "./_talks\\2018-The-chemistry-that-makes-us-think-and-feel-how-ions-and-molecules-control-our-behavior.md\n",
      "./_talks\\2019-A-map-based-model-for-the-membrane-potential-of-healthy-and-unhealthy-neurons-and-cardiac-cells.md\n",
      "./_talks\\2019-Can-a-butterfly-flap-its-wings-in-China-and-cause-a-tornado-in-Brazil.md\n",
      "./_talks\\2019-How-to-self-organize-a-neuronal-network-towards-the-balanced-state.md\n",
      "./_talks\\2019-Power-law-avalanches-and-all-the-synchronicity-states-emerging-in-a-unified-model-of-excitatory-inhibitory-balanced-network.md\n",
      "./_talks\\2020-A-self-organized-path-to-synaptic-balance.md\n",
      "./_talks\\2020-Directed-percolation-explains-experimental-avalanche-scaling-laws-under-subsampling.md\n",
      "./_talks\\2020-Modeling-in-Science-beyond-the-COVID-19-Pandemic.md\n",
      "./_talks\\2020-Neuroscience-and-Memory-Mechanisms.md\n",
      "./_talks\\2021-A-minimal-integrate-and-fire-model-for-Mossy-Cells.md\n",
      "./_talks\\2021-Asynchronous-irregular-activity-coexists-with-power-law-distributed-neuronal-avalanches.md\n",
      "./_talks\\2021-Neuronal-avalanches-are-they-generally-representative-of-critical-brain-dynamics.md\n",
      "./_talks\\2022-Brain-criticality-beyond-avalanches-open-problems-and-how-to-approach-them.md\n",
      "./_talks\\2023-Coding-properties-of-networks-with-firing-threshold-adaptation-near-criticality.md\n",
      "./_talks\\2024-Adaptive-networks-input-encoding-and-learning.md\n",
      "./_talks\\2024-dynamic-range-patterns-cns-2024.md\n",
      "./_talks\\2024-Optimal-pattern-coding-cns-2024.md\n",
      "./_talks\\2024-Optimal-pattern-coding-due-to-firing-threshold-adaptation-near-criticality.md\n",
      "./_talks\\2024-Optimal-pattern-coding-sbf-2024.md\n",
      "./_talks\\2024-Three-body-problem-science-beyind-Netflix.md\n",
      "./_talks\\2025-Como-criar-mapas-olhos-fechados.md\n",
      "./_talks\\2025-Optimal-pattern-coding-E-I-nets-cns-2025.md\n"
     ]
    }
   ],
   "source": [
    "process_for_page = 'talks'\n",
    "\n",
    "# process talks\n",
    "all_files        = glob.glob('./_talks/*.md')\n",
    "outfilename      = '_includes/toc-talks'\n",
    "pubtype_tag      = 'type'\n",
    "year_tag         = 'year'\n",
    "year_dtype       = int\n",
    "pubtype_order    = ['outreach','invited','conference']\n",
    "pubtype_link_txt = dict(outreach='Science Outreach',invited='Invited Talks',conference='Latest Conference Presentations')\n",
    "\n",
    "\n",
    "finfo = []\n",
    "for file in all_files:\n",
    "    print(file)\n",
    "    finfo.append(get_file_header_info(file))\n",
    "\n",
    "type_unique_values = get_unique_values_for_tag(finfo,pubtype_tag)\n",
    "type_unique_values = [ type_unique_values[[ k in v.lower() for v in type_unique_values ]][0] for k in pubtype_order ]\n",
    "type_map           = { k:v for k,v in zip(pubtype_link_txt.keys(),type_unique_values) }\n",
    "type_map_reverse   = { v:k for k,v in type_map.items() }"
   ]
  },
  {
   "cell_type": "code",
   "execution_count": 15,
   "metadata": {},
   "outputs": [
    {
     "name": "stdout",
     "output_type": "stream",
     "text": [
      "<nav class=\"toc sticky\" style=\"width:100%;height:300px;overflow-y:scroll;overflow-x:hidden;scrollbar-width:5px;\"><header style=\"position:sticky;\"><h4 class=\"nav__title\"><i class=\"fa fa-file-text\"></i>&nbsp;Skip to...</h4></header><ul class=\"toc__menu\" id=\"markdown-toc\"><li><a href=\"#toc-outreach\" id=\"markdown-toc-outreach\">Science Outreach</a><ul><li><a href=\"#toc-outreach-2025\" id=\"markdown-toc-outreach-2025\">2025</a></li><li><a href=\"#toc-outreach-2024\" id=\"markdown-toc-outreach-2024\">2024</a></li><li><a href=\"#toc-outreach-2020\" id=\"markdown-toc-outreach-2020\">2020</a></li><li><a href=\"#toc-outreach-2019\" id=\"markdown-toc-outreach-2019\">2019</a></li><li><a href=\"#toc-outreach-2014\" id=\"markdown-toc-outreach-2014\">2014</a></li></ul></li><li><a href=\"#toc-invited\" id=\"markdown-toc-invited\">Invited Talks</a><ul><li><a href=\"#toc-invited-2024\" id=\"markdown-toc-invited-2024\">2024</a></li><li><a href=\"#toc-invited-2021\" id=\"markdown-toc-invited-2021\">2021</a></li><li><a href=\"#toc-invited-2020\" id=\"markdown-toc-invited-2020\">2020</a></li><li><a href=\"#toc-invited-2018\" id=\"markdown-toc-invited-2018\">2018</a></li></ul></li><li><a href=\"#toc-conference\" id=\"markdown-toc-conference\">Latest Conference Presentations</a><ul><li><a href=\"#toc-conference-2025\" id=\"markdown-toc-conference-2025\">2025</a></li><li><a href=\"#toc-conference-2024\" id=\"markdown-toc-conference-2024\">2024</a></li><li><a href=\"#toc-conference-2023\" id=\"markdown-toc-conference-2023\">2023</a></li><li><a href=\"#toc-conference-2022\" id=\"markdown-toc-conference-2022\">2022</a></li><li><a href=\"#toc-conference-2021\" id=\"markdown-toc-conference-2021\">2021</a></li><li><a href=\"#toc-conference-2020\" id=\"markdown-toc-conference-2020\">2020</a></li><li><a href=\"#toc-conference-2019\" id=\"markdown-toc-conference-2019\">2019</a></li><li><a href=\"#toc-conference-2018\" id=\"markdown-toc-conference-2018\">2018</a></li></ul></li></ul></nav>\n",
      "File written ...  _includes/toc-talks\n"
     ]
    }
   ],
   "source": [
    "\n",
    "html_ul_code          = r'<ul class=\"toc__menu\" id=\"markdown-toc\">'\n",
    "all_pubtype           = sort_elements(get_unique_values_for_tag(finfo,pubtype_tag),pubtype_order)\n",
    "for ptype in all_pubtype:\n",
    "    html_ul_code     += get_toc_li('toc-'+ptype,ptype,pubtype_link_txt[type_map_reverse[ptype]],False)\n",
    "    html_ul_code     += r'<ul>'\n",
    "    all_years         = numpy.flip(find_smallest_integer(get_unique_values_for_tag(find_file_by_tag(finfo,pubtype_tag,ptype),year_tag,dtype=str)))\n",
    "    for year in all_years:\n",
    "        html_ul_code += get_toc_li('toc-'+ptype+'-'+str(year),ptype+'-'+str(year),str(year),True)\n",
    "    html_ul_code     += r'</ul></li>' # closing year list for each ptype\n",
    "\n",
    "html_ul_code         += r'</ul>'\n",
    "\n",
    "html_toc_code = r'<nav class=\"toc sticky\" style=\"width:100%;height:300px;overflow-y:scroll;overflow-x:hidden;scrollbar-width:5px;\"><header style=\"position:sticky;\"><h4 class=\"nav__title\"><i class=\"fa fa-file-text\"></i>&nbsp;Skip to...</h4></header>'+html_ul_code+'</nav>'\n",
    "\n",
    "print(html_toc_code)\n",
    "\n",
    "with open(outfilename,'w') as outfile:\n",
    "    outfile.write(html_toc_code)\n",
    "print('File written ... ',outfilename)"
   ]
  }
 ],
 "metadata": {
  "kernelspec": {
   "display_name": "Python 3",
   "language": "python",
   "name": "python3"
  },
  "language_info": {
   "codemirror_mode": {
    "name": "ipython",
    "version": 3
   },
   "file_extension": ".py",
   "mimetype": "text/x-python",
   "name": "python",
   "nbconvert_exporter": "python",
   "pygments_lexer": "ipython3",
   "version": "3.8.2"
  }
 },
 "nbformat": 4,
 "nbformat_minor": 2
}
