{
 "cells": [
  {
   "cell_type": "code",
   "execution_count": 103,
   "metadata": {},
   "outputs": [],
   "source": [
    "import glob\n",
    "import numpy\n",
    "\n",
    "def get_file_header_info(file):\n",
    "    with open(file, 'r') as f:\n",
    "        lines = f.readlines()\n",
    "    lines  = numpy.array([ l.replace('\\n','').strip() for l in lines],dtype=str)\n",
    "    return dict([ [ e.strip() for e in l.split(':',1) ] for l in lines[slice(*(numpy.logical_or(lines=='---\\n',lines=='---').nonzero()[0] + (1,0)))] ])\n",
    "def get_md_file_header_tag(file_or_file_header_info,tag):\n",
    "    if type(file_or_file_header_info) is list:\n",
    "        return [ get_md_file_header_tag(f,tag) for f in file_or_file_header_info ]\n",
    "    else:\n",
    "        h = file_or_file_header_info if type(file_or_file_header_info) is dict else get_file_header_info(file_or_file_header_info)\n",
    "        return h[tag] if tag in h.keys() else ''\n",
    "def find_file_by_tag(finfo_list,tag,value):\n",
    "    return [ f for f in finfo_list if (value in f[tag]) ]\n",
    "def sort_files_by_tag(finfo_list,tag,value_to_index_func=int,reverse=False):\n",
    "    return sorted(finfo_list,key=lambda fi: value_to_index_func(fi[tag]),reverse=reverse)\n",
    "def get_unique_values_for_tag(finfo_list,tag,dtype=None):\n",
    "    return numpy.unique(numpy.array(get_md_file_header_tag(finfo_list,tag),dtype=dtype))\n",
    "def sort_elements(arr,order,reverse=False):\n",
    "    order_map = {key: i for i, key in enumerate(order)}\n",
    "    return sorted(arr,key=lambda d: order_map[d],reverse=reverse)"
   ]
  },
  {
   "cell_type": "code",
   "execution_count": 104,
   "metadata": {},
   "outputs": [],
   "source": [
    "all_files        = glob.glob('./_publications/*.md')\n",
    "pubtype_tag      = 'pubtype'\n",
    "year_tag         = 'year'\n",
    "pubtype_order    = ['paper','book','proceedings','thesis']\n",
    "pubtype_link_txt = dict(paper='Peer-reviewed papers',book='Books',proceedings='Proceedings',thesis='Theses')\n",
    "\n",
    "finfo = []\n",
    "for file in all_files:\n",
    "    finfo.append(get_file_header_info(file))"
   ]
  },
  {
   "cell_type": "code",
   "execution_count": 108,
   "metadata": {},
   "outputs": [
    {
     "name": "stdout",
     "output_type": "stream",
     "text": [
      "<nav class=\"toc sticky\" style=\"height:200px;overflow:scroll;\"><header><h4 class=\"nav__title\"><i class=\"fa fa-file-text\"></i>Skip to...</h4></header><ul class=\"toc__menu\" id=\"markdown-toc\"><li><a href=\"#toc-paper\" id=\"markdown-toc-paper\">Peer-reviewed papers</a><ul><li><a href=\"#toc-paper-2022\" id=\"markdown-toc-paper-2022\">2022</a></li><li><a href=\"#toc-paper-2021\" id=\"markdown-toc-paper-2021\">2021</a></li><li><a href=\"#toc-paper-2020\" id=\"markdown-toc-paper-2020\">2020</a></li><li><a href=\"#toc-paper-2019\" id=\"markdown-toc-paper-2019\">2019</a></li><li><a href=\"#toc-paper-2018\" id=\"markdown-toc-paper-2018\">2018</a></li><li><a href=\"#toc-paper-2017\" id=\"markdown-toc-paper-2017\">2017</a></li><li><a href=\"#toc-paper-2016\" id=\"markdown-toc-paper-2016\">2016</a></li><li><a href=\"#toc-paper-2013\" id=\"markdown-toc-paper-2013\">2013</a></li><li><a href=\"#toc-paper-2010\" id=\"markdown-toc-paper-2010\">2010</a></li></ul></li><li><a href=\"#toc-book\" id=\"markdown-toc-book\">Books</a><ul><li><a href=\"#toc-book-2021\" id=\"markdown-toc-book-2021\">2021</a></li><li><a href=\"#toc-book-2020\" id=\"markdown-toc-book-2020\">2020</a></li></ul></li><li><a href=\"#toc-proceedings\" id=\"markdown-toc-proceedings\">Proceedings</a><ul><li><a href=\"#toc-proceedings-2021\" id=\"markdown-toc-proceedings-2021\">2021</a></li><li><a href=\"#toc-proceedings-2019\" id=\"markdown-toc-proceedings-2019\">2019</a></li><li><a href=\"#toc-proceedings-2014\" id=\"markdown-toc-proceedings-2014\">2014</a></li><li><a href=\"#toc-proceedings-2012\" id=\"markdown-toc-proceedings-2012\">2012</a></li><li><a href=\"#toc-proceedings-2011\" id=\"markdown-toc-proceedings-2011\">2011</a></li></ul></li><li><a href=\"#toc-thesis\" id=\"markdown-toc-thesis\">Theses</a><ul><li><a href=\"#toc-thesis-2016\" id=\"markdown-toc-thesis-2016\">2016</a></li><li><a href=\"#toc-thesis-2012\" id=\"markdown-toc-thesis-2012\">2012</a></li></ul></li></ul></nav>\n",
      "File written ...  _includes/toc-publications\n"
     ]
    }
   ],
   "source": [
    "def get_toc_li(href,id,txt,closetag=False):\n",
    "    return r'<li><a href=\"#'+href+'\" id=\"markdown-toc-'+id+'\">'+txt+'</a>' + ('</li>' if closetag else '')\n",
    "\n",
    "html_ul_code          = r'<ul class=\"toc__menu\" id=\"markdown-toc\">'\n",
    "all_pubtype           = sort_elements(get_unique_values_for_tag(finfo,pubtype_tag),pubtype_order)\n",
    "for ptype in all_pubtype:\n",
    "    html_ul_code     += get_toc_li('toc-'+ptype,ptype,pubtype_link_txt[ptype],False)\n",
    "    html_ul_code     += r'<ul>'\n",
    "    all_years         = numpy.flip(get_unique_values_for_tag(find_file_by_tag(finfo,pubtype_tag,ptype),year_tag,dtype=int))\n",
    "    for year in all_years:\n",
    "        html_ul_code += get_toc_li('toc-'+ptype+'-'+str(year),ptype+'-'+str(year),str(year),True)\n",
    "    html_ul_code     += r'</ul></li>' # closing year list for each ptype\n",
    "\n",
    "html_ul_code         += r'</ul>'\n",
    "\n",
    "html_toc_code = r'<nav class=\"toc sticky\" style=\"height:200px;overflow:scroll;\"><header><h4 class=\"nav__title\"><i class=\"fa fa-file-text\"></i>Skip to...</h4></header>'+html_ul_code+'</nav>'\n",
    "\n",
    "print(html_toc_code)\n",
    "\n",
    "outfilename = '_includes/toc-publications'\n",
    "with open(outfilename,'w') as outfile:\n",
    "    outfile.write(html_toc_code)\n",
    "print('File written ... ',outfilename)"
   ]
  }
 ],
 "metadata": {
  "kernelspec": {
   "display_name": "Python 3",
   "language": "python",
   "name": "python3"
  },
  "language_info": {
   "codemirror_mode": {
    "name": "ipython",
    "version": 3
   },
   "file_extension": ".py",
   "mimetype": "text/x-python",
   "name": "python",
   "nbconvert_exporter": "python",
   "pygments_lexer": "ipython3",
   "version": "3.8.2"
  }
 },
 "nbformat": 4,
 "nbformat_minor": 2
}
