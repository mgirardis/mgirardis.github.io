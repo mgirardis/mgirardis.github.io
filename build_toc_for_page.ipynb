{
 "cells": [
  {
   "cell_type": "code",
   "execution_count": 1,
   "metadata": {},
   "outputs": [],
   "source": [
    "import glob\n",
    "import numpy\n",
    "\n",
    "def get_file_header_info(file):\n",
    "    with open(file, 'r') as f:\n",
    "        lines = f.readlines()\n",
    "    lines  = numpy.array([ l.replace('\\n','').strip() for l in lines],dtype=str)\n",
    "    return dict([ [ e.strip() for e in l.split(':',1) ] for l in lines[slice(*(numpy.logical_or(lines=='---\\n',lines=='---').nonzero()[0] + (1,0)))] ])\n",
    "def get_md_file_header_tag(file_or_file_header_info,tag,skip_quotes=True):\n",
    "    if type(file_or_file_header_info) is list:\n",
    "        return [ get_md_file_header_tag(f,tag) for f in file_or_file_header_info ]\n",
    "    else:\n",
    "        h = file_or_file_header_info if type(file_or_file_header_info) is dict else get_file_header_info(file_or_file_header_info)\n",
    "        return (h[tag].replace('\"','') if skip_quotes else h[tag]) if tag in h.keys() else ''\n",
    "def find_file_by_tag(finfo_list,tag,value):\n",
    "    return [ f for f in finfo_list if (value in f[tag]) ]\n",
    "def sort_files_by_tag(finfo_list,tag,value_to_index_func=int,reverse=False):\n",
    "    return sorted(finfo_list,key=lambda fi: value_to_index_func(fi[tag]),reverse=reverse)\n",
    "def get_unique_values_for_tag(finfo_list,tag,dtype=None):\n",
    "    return numpy.unique(numpy.array(get_md_file_header_tag(finfo_list,tag),dtype=dtype))\n",
    "def sort_elements(arr,order,reverse=False):\n",
    "    order_map = {key: i for i, key in enumerate(order)}\n",
    "    return sorted(arr,key=lambda d: order_map[d],reverse=reverse)"
   ]
  },
  {
   "cell_type": "code",
   "execution_count": 2,
   "metadata": {},
   "outputs": [
    {
     "name": "stdout",
     "output_type": "stream",
     "text": [
      "./_talks\\2014-Open-astronomical-observations-of-the-Lunar-eclipses-and-the-transit-of-Mercury.md\n",
      "./_talks\\2018-A-stochastic-and-population-model-of-epileptic-seizures.md\n",
      "./_talks\\2018-Map-based-neurons-a-general-model-for-the-action-potential.md\n",
      "./_talks\\2018-The-chemistry-that-makes-us-think-and-feel-how-ions-and-molecules-control-our-behavior.md\n",
      "./_talks\\2019-A-map-based-model-for-the-membrane-potential-of-healthy-and-unhealthy-neurons-and-cardiac-cells.md\n",
      "./_talks\\2019-Can-a-butterfly-flap-its-wings-in-China-and-cause-a-tornado-in-Brazil.md\n",
      "./_talks\\2019-How-to-self-organize-a-neuronal-network-towards-the-balanced-state.md\n",
      "./_talks\\2019-Power-law-avalanches-and-all-the-synchronicity-states-emerging-in-a-unified-model-of-excitatory-inhibitory-balanced-network.md\n",
      "./_talks\\2020-A-self-organized-path-to-synaptic-balance.md\n",
      "./_talks\\2020-Directed-percolation-explains-experimental-avalanche-scaling-laws-under-subsampling.md\n",
      "./_talks\\2020-Modeling-in-Science-beyond-the-COVID-19-Pandemic.md\n",
      "./_talks\\2020-Neuroscience-and-Memory-Mechanisms.md\n",
      "./_talks\\2021-A-minimal-integrate-and-fire-model-for-Mossy-Cells.md\n",
      "./_talks\\2021-Asynchronous-irregular-activity-coexists-with-power-law-distributed-neuronal-avalanches.md\n",
      "./_talks\\2021-Neuronal-avalanches-are-they-generally-representative-of-critical-brain-dynamics.md\n",
      "./_talks\\2022-Brain-criticality-beyond-avalanches-open-problems-and-how-to-approach-them.md\n",
      "./_talks\\2023-Coding-properties-of-networks-with-firing-threshold-adaptation-near-criticality.md\n",
      "./_talks\\2024-Adaptive-networks-input-encoding-and-learning.md\n"
     ]
    }
   ],
   "source": [
    "#process_for_page = 'publications'\n",
    "process_for_page = 'talks'\n",
    "\n",
    "if process_for_page == 'publications':\n",
    "    # process publications\n",
    "    all_files        = glob.glob('./_publications/*.md')\n",
    "    outfilename      = '_includes/toc-publications'\n",
    "    pubtype_tag      = 'pubtype'\n",
    "    year_tag         = 'year'\n",
    "    year_dtype       = int\n",
    "    pubtype_order    = ['paper','book','proceedings','thesis']\n",
    "    pubtype_link_txt = dict(paper='Peer-reviewed papers',book='Books',proceedings='Proceedings',thesis='Theses')\n",
    "elif process_for_page == 'talks':\n",
    "    # process talks\n",
    "    all_files        = glob.glob('./_talks/*.md')\n",
    "    outfilename      = '_includes/toc-talks'\n",
    "    pubtype_tag      = 'type'\n",
    "    year_tag         = 'year'\n",
    "    year_dtype       = int\n",
    "    pubtype_order    = ['outreach','invited','conference']\n",
    "    pubtype_link_txt = dict(outreach='Interviews and Science Outreach',invited='Invited Talks',conference='Latest Conference Presentations')\n",
    "\n",
    "\n",
    "finfo = []\n",
    "for file in all_files:\n",
    "    print(file)\n",
    "    finfo.append(get_file_header_info(file))"
   ]
  },
  {
   "cell_type": "code",
   "execution_count": 3,
   "metadata": {},
   "outputs": [
    {
     "name": "stdout",
     "output_type": "stream",
     "text": [
      "<nav class=\"toc sticky\" style=\"width:100%;height:300px;overflow-y:scroll;overflow-x:hidden;scrollbar-width:5px;\"><header style=\"position:sticky;\"><h4 class=\"nav__title\"><i class=\"fa fa-file-text\"></i>&nbsp;Skip to...</h4></header><ul class=\"toc__menu\" id=\"markdown-toc\"><li><a href=\"#toc-outreach\" id=\"markdown-toc-outreach\">Interviews and Science Outreach</a><ul><li><a href=\"#toc-outreach-2020\" id=\"markdown-toc-outreach-2020\">2020</a></li><li><a href=\"#toc-outreach-2014\" id=\"markdown-toc-outreach-2014\">2014</a></li></ul></li><li><a href=\"#toc-invited\" id=\"markdown-toc-invited\">Invited Talks</a><ul><li><a href=\"#toc-invited-2024\" id=\"markdown-toc-invited-2024\">2024</a></li><li><a href=\"#toc-invited-2021\" id=\"markdown-toc-invited-2021\">2021</a></li><li><a href=\"#toc-invited-2020\" id=\"markdown-toc-invited-2020\">2020</a></li><li><a href=\"#toc-invited-2019\" id=\"markdown-toc-invited-2019\">2019</a></li><li><a href=\"#toc-invited-2018\" id=\"markdown-toc-invited-2018\">2018</a></li></ul></li><li><a href=\"#toc-conference\" id=\"markdown-toc-conference\">Latest Conference Presentations</a><ul><li><a href=\"#toc-conference-2023\" id=\"markdown-toc-conference-2023\">2023</a></li><li><a href=\"#toc-conference-2022\" id=\"markdown-toc-conference-2022\">2022</a></li><li><a href=\"#toc-conference-2021\" id=\"markdown-toc-conference-2021\">2021</a></li><li><a href=\"#toc-conference-2020\" id=\"markdown-toc-conference-2020\">2020</a></li><li><a href=\"#toc-conference-2019\" id=\"markdown-toc-conference-2019\">2019</a></li><li><a href=\"#toc-conference-2018\" id=\"markdown-toc-conference-2018\">2018</a></li></ul></li></ul></nav>\n",
      "File written ...  _includes/toc-talks\n"
     ]
    }
   ],
   "source": [
    "def get_toc_li(href,id,txt,closetag=False):\n",
    "    href = href.lower().replace(' ','-')\n",
    "    id   = id.lower().replace(' ','-')\n",
    "    return r'<li><a href=\"#'+href+'\" id=\"markdown-toc-'+id+'\">'+txt+'</a>' + ('</li>' if closetag else '')\n",
    "\n",
    "html_ul_code          = r'<ul class=\"toc__menu\" id=\"markdown-toc\">'\n",
    "all_pubtype           = sort_elements(get_unique_values_for_tag(finfo,pubtype_tag),pubtype_order)\n",
    "for ptype in all_pubtype:\n",
    "    html_ul_code     += get_toc_li('toc-'+ptype,ptype,pubtype_link_txt[ptype],False)\n",
    "    html_ul_code     += r'<ul>'\n",
    "    all_years         = numpy.flip(get_unique_values_for_tag(find_file_by_tag(finfo,pubtype_tag,ptype),year_tag,dtype=year_dtype))\n",
    "    for year in all_years:\n",
    "        html_ul_code += get_toc_li('toc-'+ptype+'-'+str(year),ptype+'-'+str(year),str(year),True)\n",
    "    html_ul_code     += r'</ul></li>' # closing year list for each ptype\n",
    "\n",
    "html_ul_code         += r'</ul>'\n",
    "\n",
    "html_toc_code = r'<nav class=\"toc sticky\" style=\"width:100%;height:300px;overflow-y:scroll;overflow-x:hidden;scrollbar-width:5px;\"><header style=\"position:sticky;\"><h4 class=\"nav__title\"><i class=\"fa fa-file-text\"></i>&nbsp;Skip to...</h4></header>'+html_ul_code+'</nav>'\n",
    "\n",
    "print(html_toc_code)\n",
    "\n",
    "with open(outfilename,'w') as outfile:\n",
    "    outfile.write(html_toc_code)\n",
    "print('File written ... ',outfilename)"
   ]
  }
 ],
 "metadata": {
  "kernelspec": {
   "display_name": "Python 3",
   "language": "python",
   "name": "python3"
  },
  "language_info": {
   "codemirror_mode": {
    "name": "ipython",
    "version": 3
   },
   "file_extension": ".py",
   "mimetype": "text/x-python",
   "name": "python",
   "nbconvert_exporter": "python",
   "pygments_lexer": "ipython3",
   "version": "3.8.2"
  }
 },
 "nbformat": 4,
 "nbformat_minor": 2
}
